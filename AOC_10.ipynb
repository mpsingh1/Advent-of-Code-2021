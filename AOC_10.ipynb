{
 "cells": [
  {
   "cell_type": "code",
   "execution_count": 1,
   "id": "544ae3aa-500b-47f2-9663-b4291c5b44dc",
   "metadata": {},
   "outputs": [],
   "source": [
    "from collections import defaultdict\n",
    "\n",
    "# file = 'test10.txt'\n",
    "file = 'input10.txt'\n",
    "data = []\n",
    "\n",
    "score_table_p1 = {\n",
    "    ')': 3,\n",
    "    ']': 57,\n",
    "    '}': 1197,\n",
    "    '>': 25137\n",
    "}\n",
    "\n",
    "score_table_p2 = {\n",
    "    ')': 1,\n",
    "    ']': 2,\n",
    "    '}': 3,\n",
    "    '>': 4\n",
    "}\n",
    "\n",
    "\n",
    "open_bracket = ['(', '{', '[', '<']\n",
    "close_bracket = [')', '}', ']', '>']\n",
    "\n",
    "pairs = {\n",
    "    '(':')',\n",
    "    '[': ']',\n",
    "    '{': '}',\n",
    "    '<':'>'\n",
    "}\n",
    "\n",
    "with open(file) as f: \n",
    "    for line in f.readlines():\n",
    "        data.append(line.strip())\n",
    "\n",
    "\n",
    "is_corrupt = {k:False for k in range(len(data))}"
   ]
  },
  {
   "cell_type": "code",
   "execution_count": 3,
   "id": "44c764b0-fcf7-4bc3-ab37-3dfb0136112d",
   "metadata": {},
   "outputs": [],
   "source": [
    "# def foundOpen(bracket):\n",
    "#     pass\n",
    "\n",
    "# def toFind(bracket, expect):\n",
    "#     global pairs\n",
    "#     expect.append(pairs[bracket])\n",
    "#     return expect"
   ]
  },
  {
   "cell_type": "code",
   "execution_count": 4,
   "id": "5a0de332-743a-4cb8-86af-b7ffbecd7e8c",
   "metadata": {},
   "outputs": [
    {
     "data": {
      "text/plain": [
       "167379"
      ]
     },
     "execution_count": 4,
     "metadata": {},
     "output_type": "execute_result"
    }
   ],
   "source": [
    "corrupt = []\n",
    "for i, line in enumerate(data):\n",
    "    expect_list = []\n",
    "    for c in line:\n",
    "        if c in open_bracket:\n",
    "            expect_list.append(pairs[c])\n",
    "        if c in close_bracket:\n",
    "            if expect_list[-1] == c:\n",
    "                expect_list.pop(-1)\n",
    "            else:\n",
    "                corrupt.append(c)\n",
    "                is_corrupt[i] = True\n",
    "                break\n",
    "penalty_corrupt = [score_table_p1[c] for c in corrupt]\n",
    "sum(penalty_corrupt)"
   ]
  },
  {
   "cell_type": "code",
   "execution_count": 7,
   "id": "1e8ddad2-4a18-4532-8333-e6a4b7c8db53",
   "metadata": {},
   "outputs": [],
   "source": [
    "expect_dict = defaultdict(list)\n",
    "for i, line in enumerate(data):\n",
    "    if not is_corrupt[i]:\n",
    "        expect_list = []\n",
    "        for c in line:\n",
    "            if c in open_bracket:\n",
    "                expect_list.append(pairs[c])\n",
    "            elif c in close_bracket:\n",
    "                expect_list.pop(-1)\n",
    "        expect_dict[i] = expect_list[::-1]\n",
    "\n",
    "score_dict = defaultdict(list)\n",
    "for key in expect_dict.keys():\n",
    "    score = 0\n",
    "    for b in expect_dict[key]:\n",
    "        score = score*5+score_table_p2[b]\n",
    "    score_dict[key] = score"
   ]
  },
  {
   "cell_type": "code",
   "execution_count": 6,
   "id": "d879aae8-18ce-4285-95f5-efb1fc8f0f8e",
   "metadata": {},
   "outputs": [
    {
     "name": "stdout",
     "output_type": "stream",
     "text": [
      "2776842859\n"
     ]
    }
   ],
   "source": [
    "score = []\n",
    "for key in score_dict:\n",
    "    score.append(score_dict[key])\n",
    "\n",
    "score.sort()\n",
    "\n",
    "if len(score)%2 == 1:\n",
    "    middle_index = int((len(score)-1)/2)\n",
    "    print(score[middle_index])"
   ]
  }
 ],
 "metadata": {
  "kernelspec": {
   "display_name": "Python 3",
   "language": "python",
   "name": "python3"
  },
  "language_info": {
   "codemirror_mode": {
    "name": "ipython",
    "version": 3
   },
   "file_extension": ".py",
   "mimetype": "text/x-python",
   "name": "python",
   "nbconvert_exporter": "python",
   "pygments_lexer": "ipython3",
   "version": "3.8.8"
  }
 },
 "nbformat": 4,
 "nbformat_minor": 5
}
