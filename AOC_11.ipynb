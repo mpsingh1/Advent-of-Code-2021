{
 "cells": [
  {
   "cell_type": "code",
   "execution_count": 91,
   "id": "39b9dc35-50ad-4bbf-8964-8d7e6eecaeec",
   "metadata": {},
   "outputs": [
    {
     "name": "stdout",
     "output_type": "stream",
     "text": [
      "Total flashes after 100 days: 1679\n"
     ]
    }
   ],
   "source": [
    "# file = 'test11.txt'\n",
    "file = 'input11.txt'\n",
    "\n",
    "with open(file) as f:\n",
    "    count = 0\n",
    "    lines = f.readlines()\n",
    "    data = [[0 for n in range(len(lines[0])-1)] for length in range(len(lines))]\n",
    "    for row, line in enumerate(lines):\n",
    "        line = line.strip()\n",
    "        for col, element in enumerate(line):\n",
    "            data[row][col] = int(element)\n",
    "            count+=1\n",
    "\n",
    "\n",
    "def neighbours(point):\n",
    "    global data\n",
    "    row, col = point\n",
    "    neighbour_points = [(row - 1, col), (row + 1, col),(row-1, col+1), (row, col+1), (row+1, col+1), (row-1, col-1), (row, col-1), (row+1, col-1)]\n",
    "    return [(y,x) for y, x in neighbour_points if y in range(len(data)) and x in range(len(data[0]))]\n",
    "\n",
    "\n",
    "def toFlash(points):\n",
    "    global data\n",
    "    global has_flashed\n",
    "    \n",
    "    for point_row, point_col in points:\n",
    "        adjacent = neighbours((point_row, point_col))\n",
    "        for location in adjacent:\n",
    "            if location not in has_flashed:\n",
    "                row, col = location\n",
    "                data[row][col] += 1\n",
    "\n",
    "        data[point_row][point_col] = 0\n",
    "        has_flashed.append((point_row, point_col))\n",
    "\n",
    "\n",
    "days = range(100)\n",
    "total_flashes = 0\n",
    "for steps in days:\n",
    "    to_flash = True\n",
    "    has_flashed = []\n",
    "    while to_flash:\n",
    "        flash = []\n",
    "        for row, line in enumerate(data):\n",
    "            for col, O in enumerate(line):\n",
    "                if len(has_flashed) == 0:\n",
    "                    data[row][col] += 1\n",
    "                if data[row][col] > 9:\n",
    "                    flash.append((row, col))\n",
    "        if len(flash)>0:\n",
    "            toFlash(flash)\n",
    "        else:\n",
    "            total_flashes+=len(has_flashed)\n",
    "            to_flash=False\n",
    "    if len(has_flashed) == count:\n",
    "        print(f'All octopus flash on day: {steps + 1} ')\n",
    "        break\n",
    "print(f'Total flashes after {steps+1} days: {total_flashes}')"
   ]
  }
 ],
 "metadata": {
  "kernelspec": {
   "display_name": "Python 3",
   "language": "python",
   "name": "python3"
  },
  "language_info": {
   "codemirror_mode": {
    "name": "ipython",
    "version": 3
   },
   "file_extension": ".py",
   "mimetype": "text/x-python",
   "name": "python",
   "nbconvert_exporter": "python",
   "pygments_lexer": "ipython3",
   "version": "3.8.8"
  }
 },
 "nbformat": 4,
 "nbformat_minor": 5
}
