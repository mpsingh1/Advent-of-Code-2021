{
 "cells": [
  {
   "cell_type": "code",
   "execution_count": 6,
   "id": "c52889e9-8c6b-4299-a612-00f6077b9792",
   "metadata": {
    "tags": []
   },
   "outputs": [
    {
     "name": "stdout",
     "output_type": "stream",
     "text": [
      "part 1 minimum fuel at 330.0: 347509.0\n",
      "part 2 minimum fuel: 98257206.0\n",
      "--- 1.0098679065704346 seconds ---\n"
     ]
    }
   ],
   "source": [
    "import statistics as s\n",
    "import time\n",
    "\n",
    "file = 'input7.txt'\n",
    "# file = 'test7.txt'\n",
    "\n",
    "with open(file) as f:\n",
    "    line = f.readline()\n",
    "    data = [int(x) for x in line.split(',')]\n",
    "# part 1\n",
    "# distance minimization problem in 1D with equal weights on cost of distance => arithemtic median = geometric median is the optimum solution\n",
    "geo_median = s.median(data)\n",
    "new = [abs(i-geo_median) for i in data]\n",
    "print(f'part 1 minimum fuel at {geo_median}: {sum(new)}')\n",
    "\n",
    "# part 2\n",
    "# we still need to calculate the geometric median for distinace minimization but since the weights are not equal, we must compute geometric median numerically\n",
    "data_dic = {str(n):0 for n in data}\n",
    "for n in data:\n",
    "    data_dic[str(n)]+=1\n",
    "\n",
    "def fuel_cost(steps, dic):\n",
    "    global data\n",
    "    fuel = {str(n):0 for n in data}\n",
    "    for n in steps.keys():\n",
    "        val = steps[n]\n",
    "        fuel[n] = dic[n]*val*(val+1)*0.5\n",
    "    return sum(fuel.values())\n",
    "\n",
    "def steps_count(dic, num):\n",
    "    global data\n",
    "    steps = {str(n):0 for n in data}\n",
    "    for n in dic.keys():\n",
    "        val = abs(int(n)-num)\n",
    "        steps[n] = val\n",
    "    return steps\n",
    "\n",
    "\n",
    "min_n = min(data)\n",
    "max_n = max(data)\n",
    "fuel = 1e9\n",
    "start_time = time.time()\n",
    "for i in range(min_n , max_n):\n",
    "    steps_dic = steps_count(data_dic, i)\n",
    "    fuel_new = fuel_cost(steps_dic, data_dic)\n",
    "    if fuel_new < fuel:\n",
    "        fuel = fuel_new\n",
    "\n",
    "print(f'part 2 minimum fuel: {fuel}')\n",
    "\n",
    "print(\"--- %s seconds ---\" % (time.time() - start_time))"
   ]
  },
  {
   "cell_type": "code",
   "execution_count": null,
   "id": "20d965ce-965a-4338-a044-734be4dd898d",
   "metadata": {},
   "outputs": [],
   "source": []
  }
 ],
 "metadata": {
  "kernelspec": {
   "display_name": "Python 3",
   "language": "python",
   "name": "python3"
  },
  "language_info": {
   "codemirror_mode": {
    "name": "ipython",
    "version": 3
   },
   "file_extension": ".py",
   "mimetype": "text/x-python",
   "name": "python",
   "nbconvert_exporter": "python",
   "pygments_lexer": "ipython3",
   "version": "3.8.8"
  }
 },
 "nbformat": 4,
 "nbformat_minor": 5
}
