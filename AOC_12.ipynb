{
 "cells": [
  {
   "cell_type": "code",
   "execution_count": 13,
   "id": "9a3cbdc5-d60a-4d4b-b634-482dd8a11522",
   "metadata": {},
   "outputs": [
    {
     "data": {
      "text/plain": [
       "118803"
      ]
     },
     "execution_count": 13,
     "metadata": {},
     "output_type": "execute_result"
    }
   ],
   "source": [
    "from collections import defaultdict, deque\n",
    "# file = 'test12.txt'\n",
    "file = 'input12.txt'\n",
    "\n",
    "#adjacency dictionary for each vertex what edged are valid connections\n",
    "mapping = defaultdict(list)\n",
    "data = []\n",
    "small_caves = set()\n",
    "\n",
    "with open(file) as f:\n",
    "    lines = f.readlines()\n",
    "    size = len(lines)\n",
    "    for line in lines:\n",
    "        link1, link2 = line.strip().split('-')\n",
    "        \n",
    "        mapping[link1].append(link2)\n",
    "        mapping[link2].append(link1)\n",
    "        \n",
    "        if link1.islower():\n",
    "            small_caves.add(link1)\n",
    "        if link2.islower():\n",
    "            small_caves.add(link2)\n",
    "\n",
    "for key in mapping.keys():\n",
    "    mapping[key] = [x for x in mapping[key] if x != 'start']\n",
    "\n",
    "    \n",
    "def solve():\n",
    "    ans = 0\n",
    "    start = ('start', set(['start']), None)\n",
    "    Q = deque([start])\n",
    "    while Q:\n",
    "        pos, small, small_twice = Q.popleft()\n",
    "        if pos == 'end':\n",
    "            ans+=1\n",
    "            continue\n",
    "        for y in mapping[pos]:\n",
    "            if y not in small:\n",
    "                new_small = set(small)\n",
    "                if y.islower():\n",
    "                    new_small.add(y)\n",
    "                Q.append((y, new_small, small_twice)) #add to the list of caves to check for path\n",
    "            elif y in small and small_twice is None and y not in ['start', 'end']:\n",
    "                Q.append((y, small, y))\n",
    "    return(ans)\n",
    "\n",
    "solve()"
   ]
  }
 ],
 "metadata": {
  "kernelspec": {
   "display_name": "Python 3",
   "language": "python",
   "name": "python3"
  },
  "language_info": {
   "codemirror_mode": {
    "name": "ipython",
    "version": 3
   },
   "file_extension": ".py",
   "mimetype": "text/x-python",
   "name": "python",
   "nbconvert_exporter": "python",
   "pygments_lexer": "ipython3",
   "version": "3.8.8"
  }
 },
 "nbformat": 4,
 "nbformat_minor": 5
}
