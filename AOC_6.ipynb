{
 "cells": [
  {
   "cell_type": "code",
   "execution_count": 6,
   "id": "c6acb9a1-602e-4133-80d2-8e2d2b032e5c",
   "metadata": {},
   "outputs": [],
   "source": [
    "file = 'input6.txt'\n",
    "# file = 'test6.txt'\n",
    "with open(file) as f:\n",
    "    line = f.readline()\n",
    "    fish = [int(x) for x in line.split(',')]\n",
    "L = ['-1', '0', '1', '2', '3', '4', '5', '6', '7', '8']\n",
    "\n",
    "def new_fish(mylist, count):\n",
    "    if count>0:\n",
    "        new = [8]*count\n",
    "        mylist += new\n",
    "    return(mylist)\n",
    "\n",
    "  \n",
    "def reset_negative(mylist):\n",
    "    mylist = [6 if x<0 else x for x in mylist]\n",
    "    return mylist\n",
    "\n",
    "\n",
    "def sort_fish(mylist):\n",
    "    global L\n",
    "    dic = {i:0 for i in L}\n",
    "    for l in mylist:\n",
    "        dic[str(l)]+=1\n",
    "    return dic\n",
    "\n",
    "\n",
    "def day_fish(mydict):\n",
    "    global L\n",
    "    dic = {i:0 for i in L}\n",
    "    for i in L[1:]:\n",
    "        mydict[str(int(i)-1)] = mydict[i]\n",
    "    mydict['8'] = 0\n",
    "    dic = mydict.copy()\n",
    "    new_fish = dic['-1']\n",
    "    dic['8'] += new_fish\n",
    "    dic['6'] += new_fish\n",
    "    dic['-1'] = 0\n",
    "    return dic"
   ]
  },
  {
   "cell_type": "code",
   "execution_count": null,
   "id": "35da2f8d-ee68-4a5c-99d1-d10d1eb417d1",
   "metadata": {},
   "outputs": [],
   "source": []
  },
  {
   "cell_type": "code",
   "execution_count": 7,
   "id": "645d4780-c70f-42d4-94e6-5824c73bd69c",
   "metadata": {},
   "outputs": [],
   "source": [
    "data = fish.copy()\n",
    "days = 80\n",
    " \n",
    "for day in range(days):\n",
    "    data = [x-1 for x in data]\n",
    "    count = data.count(-1)\n",
    "    data = reset_negative(data)\n",
    "    data = new_fish(data, count)\n",
    "len(data)\n",
    "p1 = sort_fish(data)"
   ]
  },
  {
   "cell_type": "code",
   "execution_count": 11,
   "id": "716ab4f0-e0b3-4481-abc4-136a350203f9",
   "metadata": {},
   "outputs": [
    {
     "name": "stdout",
     "output_type": "stream",
     "text": [
      "362639\n"
     ]
    }
   ],
   "source": [
    "total_p1 = sum(p1.values())\n",
    "print(total)"
   ]
  },
  {
   "cell_type": "code",
   "execution_count": 16,
   "id": "de9d11b7-e34f-41a8-9acd-5549c3f2d853",
   "metadata": {},
   "outputs": [],
   "source": [
    "dic_data = sort_fish(fish)\n",
    "days = 256\n",
    "for day in range(days):\n",
    "    dic_data = day_fish(dic_data)"
   ]
  },
  {
   "cell_type": "code",
   "execution_count": 14,
   "id": "ff28a899-0b9b-4068-a32f-86cdb0b6242c",
   "metadata": {},
   "outputs": [
    {
     "data": {
      "text/plain": [
       "True"
      ]
     },
     "execution_count": 14,
     "metadata": {},
     "output_type": "execute_result"
    }
   ],
   "source": [
    "dic_data == p1"
   ]
  },
  {
   "cell_type": "code",
   "execution_count": 17,
   "id": "22a757de-5e6c-4d77-8149-20b0f894916d",
   "metadata": {},
   "outputs": [
    {
     "name": "stdout",
     "output_type": "stream",
     "text": [
      "1639854996917\n"
     ]
    }
   ],
   "source": [
    "total_p2 = sum(dic_data.values())\n",
    "print(total_p2)"
   ]
  }
 ],
 "metadata": {
  "kernelspec": {
   "display_name": "Python 3",
   "language": "python",
   "name": "python3"
  },
  "language_info": {
   "codemirror_mode": {
    "name": "ipython",
    "version": 3
   },
   "file_extension": ".py",
   "mimetype": "text/x-python",
   "name": "python",
   "nbconvert_exporter": "python",
   "pygments_lexer": "ipython3",
   "version": "3.8.8"
  }
 },
 "nbformat": 4,
 "nbformat_minor": 5
}
