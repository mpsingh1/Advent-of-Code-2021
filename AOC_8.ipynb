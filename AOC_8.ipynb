{
 "cells": [
  {
   "cell_type": "code",
   "execution_count": 1,
   "id": "f352375f-385a-4dcd-817f-4dad5b4eb4a7",
   "metadata": {},
   "outputs": [],
   "source": [
    "file = 'input8.txt'\n",
    "# file = 'test8.txt'\n",
    "\n",
    "input_data = []\n",
    "output_data = []\n",
    "dic_input = {}\n",
    "dic_output = {}\n",
    "with open(file) as f:\n",
    "    line = f.readlines()\n",
    "    \n",
    "    for l in line:\n",
    "        l = l.strip()\n",
    "        input_data.append(l.split(' | ')[0])\n",
    "        output_data.append(l.split(' | ')[1])"
   ]
  },
  {
   "cell_type": "code",
   "execution_count": 2,
   "id": "88d1d707-24cb-4584-b883-f4635427627c",
   "metadata": {},
   "outputs": [],
   "source": [
    "def sort_word(word):\n",
    "    a = sorted(word)\n",
    "    a_string = \"\".join(a)\n",
    "    return a_string\n",
    "\n",
    "\n",
    "def find_two_three_five(list_of_either_2_3_5, list_of_either_0_6_9):\n",
    "    new_dic = {k:0 for k in either_2_3_5}\n",
    "    for string1 in list_of_either_2_3_5:\n",
    "        for string2 in list_of_either_0_6_9:\n",
    "            if set(string1).issubset(set(string2)):\n",
    "                new_dic[string1]+=1\n",
    "    \n",
    "    five = dic_key_from_value(new_dic, 2)\n",
    "    three = dic_key_from_value(new_dic, 1)\n",
    "    two = dic_key_from_value(new_dic, 0)\n",
    "    return two, three, five\n",
    "\n",
    "\n",
    "def dic_key_from_value(dic, value):\n",
    "    return list(dic.keys())[list(dic.values()).index(value)]"
   ]
  },
  {
   "cell_type": "code",
   "execution_count": 3,
   "id": "22eb4198-e299-49c8-bdfc-4e16e4d5f3f9",
   "metadata": {},
   "outputs": [
    {
     "name": "stdout",
     "output_type": "stream",
     "text": [
      "495\n"
     ]
    }
   ],
   "source": [
    "dic = {str(k):0 for k in range(10)}\n",
    "out_words = []\n",
    "\n",
    "for i in output_data:\n",
    "    out_words.append(i.split(' '))\n",
    "sorted_words_out = out_words.copy()\n",
    "\n",
    "for i, l in enumerate(out_words):\n",
    "    sorted_words_out[i] = [sort_word(word) for word in l]\n",
    "\n",
    "# part 1\n",
    "for l in out_words:\n",
    "    for word in l:\n",
    "        if len(word) == 2:\n",
    "            dic['1']+= 1\n",
    "        elif len(word) == 3:\n",
    "            dic['7']+= 1\n",
    "        elif len(word) == 7:\n",
    "            dic['8'] += 1\n",
    "        elif len(word) == 4:\n",
    "            dic['4'] += 1\n",
    "\n",
    "print(sum(dic.values()))"
   ]
  },
  {
   "cell_type": "code",
   "execution_count": 4,
   "id": "8987e68a-5097-4881-8740-b363ab05e92c",
   "metadata": {},
   "outputs": [],
   "source": [
    "dic_list = [{str(k):'' for k in range(10)} for n in range(len(input_data))]\n",
    "in_words = []\n",
    "\n",
    "for i in input_data:\n",
    "    in_words.append(i.split(' '))\n",
    "\n",
    "sorted_words_in = in_words.copy()\n",
    "for i, l in enumerate(in_words):\n",
    "    sorted_words_in[i] = [sort_word(word) for word in l]\n",
    "\n",
    "for i, entry in enumerate(sorted_words_in):\n",
    "    for word in entry:\n",
    "        if len(word) == 2:\n",
    "            dic_list[i]['1'] = word\n",
    "        elif len(word) == 3:\n",
    "            dic_list[i]['7'] = word\n",
    "        elif len(word) == 4:\n",
    "            dic_list[i]['4'] = word\n",
    "        elif len(word) == 7:\n",
    "            dic_list[i]['8'] = word\n",
    "        else: \n",
    "            pass"
   ]
  },
  {
   "cell_type": "code",
   "execution_count": 5,
   "id": "7b4530fa-31da-4cd1-af48-84b324aae717",
   "metadata": {},
   "outputs": [],
   "source": [
    "# find pairs where one is subset of other\n",
    "for i, entry in enumerate(sorted_words_in):\n",
    "    \n",
    "    either_0_6_9 = [word for word in entry if len(word)==6]\n",
    "    either_2_3_5 = [word for word in entry if len(word)==5]\n",
    "\n",
    "    dic_list[i]['2'], dic_list[i]['3'], dic_list[i]['5'] = find_two_three_five(either_2_3_5, either_0_6_9)\n",
    "\n",
    "    for word in either_0_6_9:\n",
    "        if not set(dic_list[i]['1']).issubset(set(word)):\n",
    "            dic_list[i]['6']=word\n",
    "\n",
    "    either_0_6_9.remove(dic_list[i]['6'])\n",
    "    \n",
    "    for word in either_0_6_9:\n",
    "        if not set(dic_list[i]['3']).issubset(set(word)):\n",
    "            dic_list[i]['0'] = word\n",
    "\n",
    "    either_0_6_9.remove(dic_list[i]['0'])\n",
    "    dic_list[i]['9'] = either_0_6_9[0]"
   ]
  },
  {
   "cell_type": "code",
   "execution_count": 6,
   "id": "a4cbb87b-bb9d-478d-93c2-8faada990c4f",
   "metadata": {},
   "outputs": [
    {
     "data": {
      "text/plain": [
       "1055164"
      ]
     },
     "execution_count": 6,
     "metadata": {},
     "output_type": "execute_result"
    }
   ],
   "source": [
    "numbers_int = [] #numbers as integers from all loops\n",
    "for i, entry in enumerate(sorted_words_out):\n",
    "    number = ''\n",
    "    for word in entry:\n",
    "        number+=(str(dic_key_from_value(dic_list[i], word)))\n",
    "    numbers_int.append(int(number))\n",
    "sum(numbers_int)"
   ]
  }
 ],
 "metadata": {
  "kernelspec": {
   "display_name": "Python 3",
   "language": "python",
   "name": "python3"
  },
  "language_info": {
   "codemirror_mode": {
    "name": "ipython",
    "version": 3
   },
   "file_extension": ".py",
   "mimetype": "text/x-python",
   "name": "python",
   "nbconvert_exporter": "python",
   "pygments_lexer": "ipython3",
   "version": "3.8.8"
  }
 },
 "nbformat": 4,
 "nbformat_minor": 5
}
